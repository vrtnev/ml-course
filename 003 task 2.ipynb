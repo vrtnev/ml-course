{
 "cells": [
  {
   "cell_type": "code",
   "execution_count": 138,
   "id": "203abce0",
   "metadata": {},
   "outputs": [],
   "source": [
    "file = open(\"input.txt\")"
   ]
  },
  {
   "cell_type": "code",
   "execution_count": 139,
   "id": "37fcf0a1",
   "metadata": {},
   "outputs": [],
   "source": [
    "all_data = file.readlines()"
   ]
  },
  {
   "cell_type": "code",
   "execution_count": 140,
   "id": "74999e07",
   "metadata": {},
   "outputs": [],
   "source": [
    "file.close()"
   ]
  },
  {
   "cell_type": "code",
   "execution_count": 141,
   "id": "59b9c581",
   "metadata": {},
   "outputs": [],
   "source": [
    "file = open(\"output.txt\", \"w\")\n",
    "count = 0\n",
    "for i in all_data:\n",
    "    count += 1\n",
    "    if (i[0] == \"+\"):\n",
    "        operation = \"+\"\n",
    "    if (i[0] == \"-\"):\n",
    "        operation = \"-\"\n",
    "    if (i[0] == \"%\"):\n",
    "        operation = \"%\"\n",
    "    if (i[0] == \"*\") and (i[1] == \"*\"):\n",
    "        operation = \"**\"\n",
    "    if (i[0] == \"*\") and (i[1] == \" \"):\n",
    "        operation = \"*\"\n",
    "    if (i[0] == \"/\"):\n",
    "        operation = \"//\"\n",
    "    number_1 = \"\"\n",
    "    number_2 = \"\"\n",
    "    end_of_number_1_reached = 0\n",
    "    end_of_number_2_reached = 0\n",
    "    end_of_number_1 = 0\n",
    "\n",
    "    if (operation == \"**\") or (operation == \"//\"):\n",
    "        start_of_number_symbol = 6\n",
    "    else: start_of_number_symbol = 5\n",
    "\n",
    "    negative = 0\n",
    "    if (i[start_of_number_symbol] == \"-\"):\n",
    "        negative = 1\n",
    "        start_of_number_1 = start_of_number_symbol + 1\n",
    "    else:\n",
    "        start_of_number_1 = start_of_number_symbol\n",
    "    for j in range(start_of_number_1, len(i)):\n",
    "        if (end_of_number_1_reached != 1):\n",
    "            if (i[j] != \" \"):\n",
    "                if (0 <= int(i[j]) <= 9):\n",
    "                    number_1 += str(i[j])\n",
    "            else:\n",
    "                end_of_number_1_reached = 1\n",
    "                end_of_number_1 = j\n",
    "                if (negative == 1):\n",
    "                    number_1 = \"-\" + number_1\n",
    "\n",
    "\n",
    "    if (i[end_of_number_1 + 4] == \"-\"):\n",
    "        negative = 1\n",
    "        start_of_number_2 = end_of_number_1 + 4 + 1\n",
    "    else:\n",
    "        negative = 0\n",
    "        start_of_number_2 = end_of_number_1 + 4\n",
    "    for j in range(start_of_number_2, len(i)):\n",
    "        if (end_of_number_2_reached != 1):\n",
    "            if (i[j] != \"\\n\"):\n",
    "                if (0 <= int(i[j]) <= 9):\n",
    "                    number_2 += str(i[j])\n",
    "            else:\n",
    "                end_of_number_2_reached = 1\n",
    "                if (negative == 1):\n",
    "                    number_2 = \"-\" + number_2\n",
    "    if (operation == \"+\"):\n",
    "        result = int(number_1) + int(number_2)\n",
    "    if (operation == \"-\"):\n",
    "        result = int(number_1) - int(number_2)\n",
    "    if (operation == \"%\"):\n",
    "        result = int(number_1) % int(number_2)\n",
    "    if (operation == \"*\"):\n",
    "        result = int(number_1) * int(number_2)\n",
    "    if (operation == \"**\"):\n",
    "        result = int(number_1) ** int(number_2)\n",
    "    if (operation == \"//\"):\n",
    "        result = int(number_1) // int(number_2)\n",
    "    \n",
    "    file.write(str(result))\n",
    "    if (count < 3000):\n",
    "        file.write(\",\")\n",
    "    "
   ]
  },
  {
   "cell_type": "code",
   "execution_count": 142,
   "id": "a2d0417f",
   "metadata": {},
   "outputs": [
    {
     "name": "stdout",
     "output_type": "stream",
     "text": [
      "done\n"
     ]
    }
   ],
   "source": [
    "file.close()\n",
    "print('done')"
   ]
  },
  {
   "cell_type": "code",
   "execution_count": null,
   "id": "b425ede7",
   "metadata": {},
   "outputs": [],
   "source": []
  }
 ],
 "metadata": {
  "kernelspec": {
   "display_name": "Python 3 (ipykernel)",
   "language": "python",
   "name": "python3"
  },
  "language_info": {
   "codemirror_mode": {
    "name": "ipython",
    "version": 3
   },
   "file_extension": ".py",
   "mimetype": "text/x-python",
   "name": "python",
   "nbconvert_exporter": "python",
   "pygments_lexer": "ipython3",
   "version": "3.10.11"
  }
 },
 "nbformat": 4,
 "nbformat_minor": 5
}
